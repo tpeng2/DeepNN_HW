{
  "nbformat": 4,
  "nbformat_minor": 0,
  "metadata": {
    "colab": {
      "name": "Mnist fashion AI",
      "provenance": [],
      "collapsed_sections": [],
      "include_colab_link": true
    },
    "kernelspec": {
      "name": "python3",
      "display_name": "Python 3"
    },
    "language_info": {
      "name": "python"
    }
  },
  "cells": [
    {
      "cell_type": "markdown",
      "metadata": {
        "id": "view-in-github",
        "colab_type": "text"
      },
      "source": [
        "<a href=\"https://colab.research.google.com/github/tpeng2/DeepNN_HW/blob/master/Mnist_fashion_AI.ipynb\" target=\"_parent\"><img src=\"https://colab.research.google.com/assets/colab-badge.svg\" alt=\"Open In Colab\"/></a>"
      ]
    },
    {
      "cell_type": "code",
      "metadata": {
        "id": "tJmPHKyGxGXo",
        "outputId": "d74e7d4f-eeb2-4d0a-d788-e2d201aa54ab",
        "colab": {
          "base_uri": "https://localhost:8080/"
        }
      },
      "source": [
        "import pandas as pd\n",
        "import numpy as np\n",
        "import os\n",
        "import shutil\n",
        "import glob\n",
        "home_dir = os.path.expanduser(\"~\")\n",
        "content_dir = '/content/'\n",
        "print('Home path is'+homedir)"
      ],
      "execution_count": 17,
      "outputs": [
        {
          "output_type": "stream",
          "name": "stdout",
          "text": [
            "Home path is/root\n"
          ]
        }
      ]
    },
    {
      "cell_type": "markdown",
      "metadata": {
        "id": "AGymkxgJ1oUf"
      },
      "source": [
        "Data preparation"
      ]
    },
    {
      "cell_type": "code",
      "metadata": {
        "colab": {
          "base_uri": "https://localhost:8080/"
        },
        "id": "XiJlAdnO2isG",
        "outputId": "600378ea-b867-4e6f-e6ac-d856808b9a5a"
      },
      "source": [
        "# Kaggle API token\n",
        "\n",
        "! pip install -q kaggle\n",
        "from google.colab import files\n",
        "if os.path.isfile('./kaggle.json') == False:\n",
        "    files.upload()\n",
        "print('Kaggle credential uploaded')"
      ],
      "execution_count": 8,
      "outputs": [
        {
          "output_type": "stream",
          "name": "stdout",
          "text": [
            "Kaggle credential uploaded\n"
          ]
        }
      ]
    },
    {
      "cell_type": "code",
      "metadata": {
        "id": "XoqHZTWlPlwo",
        "outputId": "7b48ba7f-f82d-4349-d368-3a0603bede8a",
        "colab": {
          "base_uri": "https://localhost:8080/"
        }
      },
      "source": [
        "data_path = content_dir +'/data'\n",
        "print('Data is stored at: '+data_path)\n",
        "os.makedirs(content_dir+'/.kaggle',exist_ok = True)\n",
        "! cp kaggle.json ~/.kaggle/\n",
        "! chmod 600 ~/.kaggle/kaggle.json\n",
        "os.system('kaggle competitions download -c mais202fall2021 -p '+data_path)\n",
        "fname_zip = glob.glob(data_path+'/'+'*.zip'); print(fname_zip)\n",
        "for i in range(len(fname_zip)):\n",
        "    shutil.unpack_archive(fname_zip[i], './data')"
      ],
      "execution_count": 19,
      "outputs": [
        {
          "output_type": "stream",
          "name": "stdout",
          "text": [
            "Data is stored at: /content//data\n",
            "['/content//data/test_images.npy.zip', '/content//data/train_images.npy.zip']\n"
          ]
        }
      ]
    },
    {
      "cell_type": "code",
      "metadata": {
        "id": "GtR49fSf3gO0"
      },
      "source": [
        "# show_image function \n",
        "\n",
        "import matplotlib.pyplot as plt\n",
        "\n",
        "def show_image(arr):\n",
        "    two_d = (np.reshape(arr, (28, 28)) * 255).astype(np.uint8)\n",
        "    plt.imshow(two_d, interpolation='nearest',cmap='bwr')\n",
        "    plt.show()\n"
      ],
      "execution_count": 12,
      "outputs": []
    },
    {
      "cell_type": "code",
      "metadata": {
        "id": "VcXNnZ3A4VJD",
        "colab": {
          "base_uri": "https://localhost:8080/",
          "height": 265
        },
        "outputId": "ad72ed6f-4d67-40ee-b5bf-39316a442360"
      },
      "source": [
        "x_train = np.load(data_path+'/train_images.npy')\n",
        "y_train = pd.read_csv(data_path+'/train_labels.csv')\n",
        "\n",
        "show_image(x_train[0])"
      ],
      "execution_count": 21,
      "outputs": [
        {
          "output_type": "display_data",
          "data": {
            "image/png": "[encoded data removed]",
            "text/plain": [
              "<Figure size 432x288 with 1 Axes>"
            ]
          },
          "metadata": {
            "needs_background": "light"
          }
        }
      ]
    }
  ]
}